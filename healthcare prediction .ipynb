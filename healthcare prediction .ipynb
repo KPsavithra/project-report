{
 "cells": [
  {
   "cell_type": "code",
   "execution_count": 3,
   "id": "445b68e8-69a3-4f04-b6da-80fec6746628",
   "metadata": {},
   "outputs": [],
   "source": [
    "import pandas as pd\n",
    "import numpy as np\n",
    "from datetime import timedelta, datetime\n",
    "import random"
   ]
  },
  {
   "cell_type": "code",
   "execution_count": 5,
   "id": "3beb8e85-e932-4098-95c1-0e74d65576b8",
   "metadata": {},
   "outputs": [],
   "source": [
    "def random_date(start, end):\n",
    "    return start + timedelta(days=random.randint(0, (end - start).days))\n"
   ]
  },
  {
   "cell_type": "code",
   "execution_count": 11,
   "id": "2f591220-0f62-44b9-9b0b-fb6360b0d46e",
   "metadata": {},
   "outputs": [],
   "source": [
    "start_date = datetime(2023, 1, 1)\n",
    "end_date = datetime(2023, 3, 1)\n"
   ]
  },
  {
   "cell_type": "code",
   "execution_count": 13,
   "id": "08887c33-435b-43e4-bfe3-658d8ac34abd",
   "metadata": {},
   "outputs": [],
   "source": [
    "rows = 35\n",
    "data = {\n",
    "    'PatientID': [i for i in range(1, rows + 1)],\n",
    "    'Age': np.random.randint(5, 80, size=rows),\n",
    "    'ScheduledDay': [random_date(start_date, end_date).strftime('%Y-%m-%d') for _ in range(rows)],\n",
    "    'AppointmentDay': [random_date(start_date + timedelta(days=2), end_date + timedelta(days=10)).strftime('%Y-%m-%d') for _ in range(rows)],\n",
    "    'SMS_received': np.random.randint(0, 2, size=rows),\n",
    "    'No-show': np.random.choice(['Yes', 'No'], size=rows, p=[0.3, 0.7])  # 30% no-show\n",
    "}\n",
    "\n",
    "df = pd.DataFrame(data)\n",
    "df.to_csv('healthcare_appointments_35rows.csv', index=False)\n"
   ]
  },
  {
   "cell_type": "code",
   "execution_count": 15,
   "id": "83cdea2c-6d0b-4ab5-a6bc-a98ca8ce0f17",
   "metadata": {},
   "outputs": [
    {
     "data": {
      "text/html": [
       "<div>\n",
       "<style scoped>\n",
       "    .dataframe tbody tr th:only-of-type {\n",
       "        vertical-align: middle;\n",
       "    }\n",
       "\n",
       "    .dataframe tbody tr th {\n",
       "        vertical-align: top;\n",
       "    }\n",
       "\n",
       "    .dataframe thead th {\n",
       "        text-align: right;\n",
       "    }\n",
       "</style>\n",
       "<table border=\"1\" class=\"dataframe\">\n",
       "  <thead>\n",
       "    <tr style=\"text-align: right;\">\n",
       "      <th></th>\n",
       "      <th>PatientID</th>\n",
       "      <th>Age</th>\n",
       "      <th>ScheduledDay</th>\n",
       "      <th>AppointmentDay</th>\n",
       "      <th>SMS_received</th>\n",
       "      <th>No-show</th>\n",
       "      <th>WaitingDays</th>\n",
       "      <th>DayOfWeek</th>\n",
       "    </tr>\n",
       "  </thead>\n",
       "  <tbody>\n",
       "    <tr>\n",
       "      <th>0</th>\n",
       "      <td>1</td>\n",
       "      <td>24</td>\n",
       "      <td>2023-02-12</td>\n",
       "      <td>2023-01-19</td>\n",
       "      <td>0</td>\n",
       "      <td>0</td>\n",
       "      <td>-24</td>\n",
       "      <td>Thursday</td>\n",
       "    </tr>\n",
       "    <tr>\n",
       "      <th>1</th>\n",
       "      <td>2</td>\n",
       "      <td>17</td>\n",
       "      <td>2023-01-02</td>\n",
       "      <td>2023-01-22</td>\n",
       "      <td>0</td>\n",
       "      <td>0</td>\n",
       "      <td>20</td>\n",
       "      <td>Sunday</td>\n",
       "    </tr>\n",
       "    <tr>\n",
       "      <th>2</th>\n",
       "      <td>3</td>\n",
       "      <td>48</td>\n",
       "      <td>2023-01-18</td>\n",
       "      <td>2023-03-09</td>\n",
       "      <td>0</td>\n",
       "      <td>1</td>\n",
       "      <td>50</td>\n",
       "      <td>Thursday</td>\n",
       "    </tr>\n",
       "    <tr>\n",
       "      <th>3</th>\n",
       "      <td>4</td>\n",
       "      <td>6</td>\n",
       "      <td>2023-01-14</td>\n",
       "      <td>2023-02-09</td>\n",
       "      <td>1</td>\n",
       "      <td>1</td>\n",
       "      <td>26</td>\n",
       "      <td>Thursday</td>\n",
       "    </tr>\n",
       "    <tr>\n",
       "      <th>4</th>\n",
       "      <td>5</td>\n",
       "      <td>57</td>\n",
       "      <td>2023-01-07</td>\n",
       "      <td>2023-02-06</td>\n",
       "      <td>0</td>\n",
       "      <td>0</td>\n",
       "      <td>30</td>\n",
       "      <td>Monday</td>\n",
       "    </tr>\n",
       "  </tbody>\n",
       "</table>\n",
       "</div>"
      ],
      "text/plain": [
       "   PatientID  Age ScheduledDay AppointmentDay  SMS_received  No-show  \\\n",
       "0          1   24   2023-02-12     2023-01-19             0        0   \n",
       "1          2   17   2023-01-02     2023-01-22             0        0   \n",
       "2          3   48   2023-01-18     2023-03-09             0        1   \n",
       "3          4    6   2023-01-14     2023-02-09             1        1   \n",
       "4          5   57   2023-01-07     2023-02-06             0        0   \n",
       "\n",
       "   WaitingDays DayOfWeek  \n",
       "0          -24  Thursday  \n",
       "1           20    Sunday  \n",
       "2           50  Thursday  \n",
       "3           26  Thursday  \n",
       "4           30    Monday  "
      ]
     },
     "execution_count": 15,
     "metadata": {},
     "output_type": "execute_result"
    }
   ],
   "source": [
    "df = pd.read_csv('healthcare_appointments_35rows.csv')\n",
    "\n",
    "# Convert to datetime\n",
    "df['ScheduledDay'] = pd.to_datetime(df['ScheduledDay'])\n",
    "df['AppointmentDay'] = pd.to_datetime(df['AppointmentDay'])\n",
    "\n",
    "# Add new features\n",
    "df['WaitingDays'] = (df['AppointmentDay'] - df['ScheduledDay']).dt.days\n",
    "df['DayOfWeek'] = df['AppointmentDay'].dt.day_name()\n",
    "df['No-show'] = df['No-show'].map({'Yes': 1, 'No': 0})  # Binary\n",
    "\n",
    "df.head()"
   ]
  },
  {
   "cell_type": "code",
   "execution_count": 17,
   "id": "d4fb4dc3-9983-4dbb-8acd-92e834267bff",
   "metadata": {},
   "outputs": [
    {
     "name": "stdout",
     "output_type": "stream",
     "text": [
      "Accuracy: 0.8571428571428571\n"
     ]
    }
   ],
   "source": [
    "from sklearn.model_selection import train_test_split\n",
    "from sklearn.tree import DecisionTreeClassifier\n",
    "from sklearn.metrics import accuracy_score\n",
    "\n",
    "X = df[['Age', 'SMS_received', 'WaitingDays']]\n",
    "y = df['No-show']\n",
    "\n",
    "X_train, X_test, y_train, y_test = train_test_split(X, y, test_size=0.2, random_state=1)\n",
    "\n",
    "model = DecisionTreeClassifier()\n",
    "model.fit(X_train, y_train)\n",
    "y_pred = model.predict(X_test)\n",
    "\n",
    "print(\"Accuracy:\", accuracy_score(y_test, y_pred))\n",
    "\n",
    "# Add predictions\n",
    "df['Predicted_No_Show'] = model.predict(X)\n"
   ]
  },
  {
   "cell_type": "code",
   "execution_count": 19,
   "id": "9c9917f3-4b91-4195-9197-e15c213a6ffe",
   "metadata": {},
   "outputs": [],
   "source": [
    "df.to_csv('final_healthcare_data.csv', index=False)"
   ]
  },
  {
   "cell_type": "code",
   "execution_count": null,
   "id": "0979eb64-f383-4e2c-87f0-67b1e34448d6",
   "metadata": {},
   "outputs": [],
   "source": []
  }
 ],
 "metadata": {
  "kernelspec": {
   "display_name": "Python 3 (ipykernel)",
   "language": "python",
   "name": "python3"
  },
  "language_info": {
   "codemirror_mode": {
    "name": "ipython",
    "version": 3
   },
   "file_extension": ".py",
   "mimetype": "text/x-python",
   "name": "python",
   "nbconvert_exporter": "python",
   "pygments_lexer": "ipython3",
   "version": "3.12.4"
  }
 },
 "nbformat": 4,
 "nbformat_minor": 5
}
